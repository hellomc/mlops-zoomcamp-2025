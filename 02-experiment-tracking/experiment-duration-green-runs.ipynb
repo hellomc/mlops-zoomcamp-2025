{
 "cells": [
  {
   "cell_type": "code",
   "execution_count": 1,
   "id": "4ce3add6-efd1-4667-8239-3fba14b952c7",
   "metadata": {},
   "outputs": [
    {
     "name": "stdout",
     "output_type": "stream",
     "text": [
      "Python 3.12.7\n"
     ]
    }
   ],
   "source": [
    "!python -V"
   ]
  },
  {
   "cell_type": "code",
   "execution_count": 2,
   "id": "542f005f-0f68-482d-bb11-28529f922601",
   "metadata": {},
   "outputs": [],
   "source": [
    "import pandas as pd"
   ]
  },
  {
   "cell_type": "code",
   "execution_count": 3,
   "id": "0f718dd4-fb3a-4f6e-997a-aa57cf994e2d",
   "metadata": {},
   "outputs": [],
   "source": [
    "import pickle"
   ]
  },
  {
   "cell_type": "code",
   "execution_count": 4,
   "id": "f4f90a89-0099-4729-a067-0ace9a1eb982",
   "metadata": {},
   "outputs": [],
   "source": [
    "from sklearn.feature_extraction import DictVectorizer\n",
    "from sklearn.linear_model import LinearRegression\n",
    "from sklearn.linear_model import Lasso"
   ]
  },
  {
   "cell_type": "code",
   "execution_count": 5,
   "id": "cc97d2e5-6117-4296-9ef0-d047647c66dd",
   "metadata": {},
   "outputs": [],
   "source": [
    "from sklearn.metrics import root_mean_squared_error"
   ]
  },
  {
   "cell_type": "code",
   "execution_count": 6,
   "id": "211deef2-44c6-4f5e-b68d-0c946feb211d",
   "metadata": {},
   "outputs": [],
   "source": [
    "import mlflow"
   ]
  },
  {
   "cell_type": "code",
   "execution_count": 7,
   "id": "ac62f87b-dd07-4ab6-ae93-b50ec5cde0cc",
   "metadata": {},
   "outputs": [],
   "source": [
    "mlflow.set_tracking_uri('http://ec2-3-148-222-145.us-east-2.compute.amazonaws.com:5000')"
   ]
  },
  {
   "cell_type": "code",
   "execution_count": 8,
   "id": "680a99a6-dd0a-4dce-8248-cb5dc51f3cc7",
   "metadata": {},
   "outputs": [
    {
     "data": {
      "text/plain": [
       "'http://ec2-3-148-222-145.us-east-2.compute.amazonaws.com:5000'"
      ]
     },
     "execution_count": 8,
     "metadata": {},
     "output_type": "execute_result"
    }
   ],
   "source": [
    "mlflow.get_tracking_uri()"
   ]
  },
  {
   "cell_type": "code",
   "execution_count": 9,
   "id": "7ba8c226-4695-411d-b15e-6d8cb8f55b98",
   "metadata": {},
   "outputs": [
    {
     "name": "stdout",
     "output_type": "stream",
     "text": [
      "🏃 View run funny-shrew-446 at: http://ec2-3-148-222-145.us-east-2.compute.amazonaws.com:5000/#/experiments/0/runs/9c42a1ff14c4483e9953c626167e40d5\n",
      "🧪 View experiment at: http://ec2-3-148-222-145.us-east-2.compute.amazonaws.com:5000/#/experiments/0\n"
     ]
    }
   ],
   "source": [
    "# Test Run\n",
    "with mlflow.start_run():\n",
    "    mlflow.log_param('test_param', 123)\n",
    "    mlflow.log_metric('test_metric', 0.95)"
   ]
  },
  {
   "cell_type": "code",
   "execution_count": 10,
   "id": "83c603ef-d26f-4d06-afdf-26d1d6bb937f",
   "metadata": {},
   "outputs": [
    {
     "data": {
      "text/plain": [
       "<Experiment: artifact_location='s3://mlflow-artifacts-experiments/1', creation_time=1747163755802, experiment_id='1', last_update_time=1747163755802, lifecycle_stage='active', name='nyc_taxi_experiment', tags={}>"
      ]
     },
     "execution_count": 10,
     "metadata": {},
     "output_type": "execute_result"
    }
   ],
   "source": [
    "mlflow.set_experiment('nyc_taxi_experiment')"
   ]
  },
  {
   "cell_type": "markdown",
   "id": "2a6045de-5e2f-4ab9-9bd0-6283f93a92fd",
   "metadata": {},
   "source": [
    "This function reads in the parquet files for the green taxi trip data. It calculates the duration of a trip in minutes and keeps trips that have a duration of 1 to 60 minutes. It also updates the categorical features of PULocationID and DOLocationID from numbers to string."
   ]
  },
  {
   "cell_type": "code",
   "execution_count": 11,
   "id": "bbf884bc-c4ab-4547-b9dc-05649a61bba5",
   "metadata": {},
   "outputs": [],
   "source": [
    "def read_dataframe(filename):\n",
    "    df = pd.read_parquet(filename)\n",
    "\n",
    "    df['duration'] = df.lpep_dropoff_datetime - df.lpep_pickup_datetime\n",
    "    df.duration = df.duration.apply(lambda td: td.total_seconds() / 60)\n",
    "\n",
    "    df = df[(df.duration >= 1) & (df.duration <= 60)]\n",
    "\n",
    "    categorical = ['PULocationID', 'DOLocationID']\n",
    "    df[categorical] = df[categorical].astype(str)\n",
    "\n",
    "    return df"
   ]
  },
  {
   "cell_type": "code",
   "execution_count": 12,
   "id": "adda092b-66f5-4d2d-a78c-8b58837998a9",
   "metadata": {},
   "outputs": [],
   "source": [
    "df_train = read_dataframe('./data/green_tripdata_2021-01.parquet')\n",
    "df_val = read_dataframe('./data/green_tripdata_2021-02.parquet')"
   ]
  },
  {
   "cell_type": "code",
   "execution_count": 13,
   "id": "f1909c14-15b7-4207-89bf-5537f4057ae5",
   "metadata": {},
   "outputs": [
    {
     "data": {
      "text/plain": [
       "(73908, 61921)"
      ]
     },
     "execution_count": 13,
     "metadata": {},
     "output_type": "execute_result"
    }
   ],
   "source": [
    "len(df_train), len(df_val)"
   ]
  },
  {
   "cell_type": "code",
   "execution_count": 14,
   "id": "1bf2b70b-0e1f-4af0-86c6-10f248b7c9c5",
   "metadata": {},
   "outputs": [],
   "source": [
    "df_train['PU_DO'] = df_train['PULocationID'] + '_' + df_train['DOLocationID']\n",
    "df_val['PU_DO'] = df_val['PULocationID'] + '_' + df_val['DOLocationID']"
   ]
  },
  {
   "cell_type": "code",
   "execution_count": 15,
   "id": "eb28d07c-323f-4208-96d6-10e48f927532",
   "metadata": {},
   "outputs": [],
   "source": [
    "categorical = ['PU_DO'] # ['PULocationID', 'DOLocationID']\n",
    "numerical = ['trip_distance']\n",
    "\n",
    "dv = DictVectorizer()\n",
    "\n",
    "train_dicts = df_train[categorical + numerical].to_dict(orient='records')\n",
    "X_train = dv.fit_transform(train_dicts)\n",
    "\n",
    "val_dicts = df_val[categorical + numerical].to_dict(orient='records')\n",
    "X_val = dv.transform(val_dicts)"
   ]
  },
  {
   "cell_type": "code",
   "execution_count": 16,
   "id": "16397824-968e-4f35-b27b-c13f7158af77",
   "metadata": {},
   "outputs": [],
   "source": [
    "target = 'duration'\n",
    "y_train = df_train[target].values\n",
    "y_val = df_val[target].values"
   ]
  },
  {
   "cell_type": "code",
   "execution_count": 17,
   "id": "56e793ab-aa80-4a7e-a541-6d51af29f7ba",
   "metadata": {},
   "outputs": [
    {
     "data": {
      "text/plain": [
       "7.758715206128955"
      ]
     },
     "execution_count": 17,
     "metadata": {},
     "output_type": "execute_result"
    }
   ],
   "source": [
    "lr = LinearRegression()\n",
    "lr.fit(X_train, y_train)\n",
    "\n",
    "y_pred = lr.predict(X_val)\n",
    "\n",
    "root_mean_squared_error(y_val, y_pred)"
   ]
  },
  {
   "cell_type": "code",
   "execution_count": 18,
   "id": "ccb2ee27-486a-4f9b-b341-cd8fd951b6b5",
   "metadata": {},
   "outputs": [],
   "source": [
    "with open('models/lin_reg.bin', 'wb') as f_out:\n",
    "    pickle.dump((dv, lr), f_out)"
   ]
  },
  {
   "cell_type": "markdown",
   "id": "fb5cb95a-58b2-468b-8bc5-26593b76153b",
   "metadata": {},
   "source": [
    "Let's try a run with MLFlow training the Lasso linear model."
   ]
  },
  {
   "cell_type": "code",
   "execution_count": 19,
   "id": "71244f60-0a62-41ef-8e83-89172d6e382c",
   "metadata": {},
   "outputs": [
    {
     "name": "stdout",
     "output_type": "stream",
     "text": [
      "🏃 View run grandiose-owl-124 at: http://ec2-3-148-222-145.us-east-2.compute.amazonaws.com:5000/#/experiments/1/runs/e310989bab9146c293a1c92283224285\n",
      "🧪 View experiment at: http://ec2-3-148-222-145.us-east-2.compute.amazonaws.com:5000/#/experiments/1\n"
     ]
    }
   ],
   "source": [
    "with mlflow.start_run():\n",
    "    mlflow.set_tag('developer', 'michelle')\n",
    "\n",
    "    mlflow.log_param('train-data-path', './data/green_tripdata_2021-01.parquet')\n",
    "    mlflow.log_param('valid-data-path', './data/green_tripdata_2021-02.parquet')\n",
    "\n",
    "    alpha = 0.1\n",
    "    mlflow.log_param('alpha', alpha)\n",
    "    lor = Lasso(alpha)\n",
    "    lor.fit(X_train, y_train)\n",
    "\n",
    "    y_pred = lor.predict(X_val)\n",
    "\n",
    "    rmse = root_mean_squared_error(y_val, y_pred)\n",
    "    mlflow.log_metric('rmse', rmse)\n",
    "\n",
    "    with open('models/lasso.bin', 'wb') as f_out:\n",
    "        pickle.dump((dv, lor), f_out)\n",
    "    mlflow.log_artifact(local_path='models/lasso.bin', artifact_path='models_pickle')"
   ]
  },
  {
   "cell_type": "markdown",
   "id": "80dc04a2-b5fb-4f7b-802e-26c7d98a5b7c",
   "metadata": {},
   "source": [
    "Now try experimenting with training an XGBoost model."
   ]
  },
  {
   "cell_type": "code",
   "execution_count": 20,
   "id": "c4889dfc-ac77-4382-b9b4-f2d10020c2f2",
   "metadata": {},
   "outputs": [
    {
     "name": "stderr",
     "output_type": "stream",
     "text": [
      "/home/ubuntu/anaconda3/lib/python3.12/site-packages/xgboost/core.py:377: FutureWarning: Your system has an old version of glibc (< 2.28). We will stop supporting Linux distros with glibc older than 2.28 after **May 31, 2025**. Please upgrade to a recent Linux distro (with glibc >= 2.28) to use future versions of XGBoost.\n",
      "Note: You have installed the 'manylinux2014' variant of XGBoost. Certain features such as GPU algorithms or federated learning are not available. To use these features, please upgrade to a recent Linux distro with glibc 2.28+, and install the 'manylinux_2_28' variant.\n",
      "  warnings.warn(\n"
     ]
    }
   ],
   "source": [
    "import xgboost as xgb\n",
    "\n",
    "from hyperopt import fmin, tpe, hp, STATUS_OK, Trials\n",
    "from hyperopt.pyll import scope"
   ]
  },
  {
   "cell_type": "code",
   "execution_count": 21,
   "id": "f187917f-ddca-485e-94e2-9a36610fe24a",
   "metadata": {},
   "outputs": [],
   "source": [
    "train = xgb.DMatrix(X_train, label=y_train)\n",
    "valid = xgb.DMatrix(X_val, label=y_val)"
   ]
  },
  {
   "cell_type": "code",
   "execution_count": 22,
   "id": "643d6be0-efec-4281-8ebe-65925e3da767",
   "metadata": {},
   "outputs": [],
   "source": [
    "def objective(params):\n",
    "    with mlflow.start_run():\n",
    "        mlflow.set_tag('developer', 'michelle')\n",
    "        mlflow.set_tag('model', 'xgboost2')\n",
    "        mlflow.log_params(params)\n",
    "        booster = xgb.train(\n",
    "            params=params,\n",
    "            dtrain=train,\n",
    "            num_boost_round=1000,\n",
    "            evals=[(valid, 'validation')],\n",
    "            early_stopping_rounds=50\n",
    "        )\n",
    "        y_pred = booster.predict(valid)\n",
    "        rmse = root_mean_squared_error(y_val, y_pred)\n",
    "        mlflow.log_metric('rmse', rmse)\n",
    "\n",
    "    return {'loss': rmse, 'status': STATUS_OK}"
   ]
  },
  {
   "cell_type": "code",
   "execution_count": 23,
   "id": "9fada225-03ab-46fa-87bb-5bb5816c7c04",
   "metadata": {},
   "outputs": [],
   "source": [
    "search_space = {\n",
    "    'max_depth': scope.int(hp.quniform('max_depth', 4, 100, 1)),\n",
    "    'learning_rate': hp.loguniform('learning_rate', -3, 0),\n",
    "    'reg_alpha': hp.loguniform('reg_alpha', -5, -1),\n",
    "    'reg_lambda': hp.loguniform('reg_lambda', -6, -1),\n",
    "    'min_child_weight': hp.loguniform('min_child_weight', -1, 3),\n",
    "    'objective': 'reg:squarederror',\n",
    "    'seed': 42\n",
    "}"
   ]
  },
  {
   "cell_type": "code",
   "execution_count": null,
   "id": "f89b95f2-b92f-47c2-80fa-eb8ff8c23717",
   "metadata": {},
   "outputs": [
    {
     "name": "stdout",
     "output_type": "stream",
     "text": [
      "[0]\tvalidation-rmse:9.24936                                                                  \n",
      "[1]\tvalidation-rmse:7.84082                                                                  \n",
      "[2]\tvalidation-rmse:7.21262                                                                  \n",
      "[3]\tvalidation-rmse:6.93644                                                                  \n",
      "[4]\tvalidation-rmse:6.80900                                                                  \n",
      "[5]\tvalidation-rmse:6.73969                                                                  \n",
      "[6]\tvalidation-rmse:6.70423                                                                  \n",
      "[7]\tvalidation-rmse:6.67831                                                                  \n",
      "[8]\tvalidation-rmse:6.66354                                                                  \n",
      "[9]\tvalidation-rmse:6.64898                                                                  \n",
      "[10]\tvalidation-rmse:6.63850                                                                 \n",
      "[11]\tvalidation-rmse:6.63286                                                                 \n",
      "[12]\tvalidation-rmse:6.62880                                                                 \n",
      "[13]\tvalidation-rmse:6.62393                                                                 \n",
      "[14]\tvalidation-rmse:6.62269                                                                 \n",
      "[15]\tvalidation-rmse:6.62111                                                                 \n",
      "[16]\tvalidation-rmse:6.62000                                                                 \n",
      "[17]\tvalidation-rmse:6.61897                                                                 \n",
      "[18]\tvalidation-rmse:6.61812                                                                 \n",
      "[19]\tvalidation-rmse:6.61626                                                                 \n",
      "[20]\tvalidation-rmse:6.61589                                                                 \n",
      "[21]\tvalidation-rmse:6.61519                                                                 \n",
      "[22]\tvalidation-rmse:6.61474                                                                 \n",
      "[23]\tvalidation-rmse:6.61394                                                                 \n",
      "[24]\tvalidation-rmse:6.61354                                                                 \n",
      "[25]\tvalidation-rmse:6.61158                                                                 \n",
      "[26]\tvalidation-rmse:6.60872                                                                 \n",
      "[27]\tvalidation-rmse:6.60816                                                                 \n",
      "[28]\tvalidation-rmse:6.60763                                                                 \n",
      "[29]\tvalidation-rmse:6.60642                                                                 \n",
      "[30]\tvalidation-rmse:6.60628                                                                 \n",
      "[31]\tvalidation-rmse:6.60497                                                                 \n",
      "[32]\tvalidation-rmse:6.60495                                                                 \n",
      "[33]\tvalidation-rmse:6.60433                                                                 \n",
      "[34]\tvalidation-rmse:6.60392                                                                 \n",
      "[35]\tvalidation-rmse:6.60365                                                                 \n",
      "[36]\tvalidation-rmse:6.60296                                                                 \n",
      "[37]\tvalidation-rmse:6.60276                                                                 \n",
      "[38]\tvalidation-rmse:6.60252                                                                 \n",
      "[39]\tvalidation-rmse:6.60234                                                                 \n",
      "[40]\tvalidation-rmse:6.60213                                                                 \n",
      "[41]\tvalidation-rmse:6.60097                                                                 \n",
      "[42]\tvalidation-rmse:6.60094                                                                 \n",
      "[43]\tvalidation-rmse:6.60042                                                                 \n",
      "[44]\tvalidation-rmse:6.59954                                                                 \n",
      "[45]\tvalidation-rmse:6.59924                                                                 \n",
      "[46]\tvalidation-rmse:6.59880                                                                 \n",
      "[47]\tvalidation-rmse:6.59797                                                                 \n",
      "[48]\tvalidation-rmse:6.59790                                                                 \n",
      "[49]\tvalidation-rmse:6.59797                                                                 \n",
      "[50]\tvalidation-rmse:6.59769                                                                 \n",
      "[51]\tvalidation-rmse:6.59758                                                                 \n",
      "[52]\tvalidation-rmse:6.59746                                                                 \n",
      "[53]\tvalidation-rmse:6.59733                                                                 \n",
      "[54]\tvalidation-rmse:6.59707                                                                 \n",
      "[55]\tvalidation-rmse:6.59650                                                                 \n",
      "[56]\tvalidation-rmse:6.59700                                                                 \n",
      "[57]\tvalidation-rmse:6.59652                                                                 \n",
      "[58]\tvalidation-rmse:6.59672                                                                 \n",
      "[59]\tvalidation-rmse:6.59644                                                                 \n",
      "[60]\tvalidation-rmse:6.59613                                                                 \n",
      "[61]\tvalidation-rmse:6.59599                                                                 \n",
      "[62]\tvalidation-rmse:6.59564                                                                 \n",
      "[63]\tvalidation-rmse:6.59559                                                                 \n",
      "[64]\tvalidation-rmse:6.59546                                                                 \n",
      "[65]\tvalidation-rmse:6.59570                                                                 \n",
      "[66]\tvalidation-rmse:6.59537                                                                 \n",
      "[67]\tvalidation-rmse:6.59545                                                                 \n",
      "[68]\tvalidation-rmse:6.59522                                                                 \n",
      "[69]\tvalidation-rmse:6.59514                                                                 \n",
      "[70]\tvalidation-rmse:6.59499                                                                 \n",
      "[71]\tvalidation-rmse:6.59484                                                                 \n",
      "[72]\tvalidation-rmse:6.59479                                                                 \n",
      "[73]\tvalidation-rmse:6.59523                                                                 \n",
      "[74]\tvalidation-rmse:6.59511                                                                 \n",
      "[75]\tvalidation-rmse:6.59473                                                                 \n",
      "[76]\tvalidation-rmse:6.59429                                                                 \n",
      "[77]\tvalidation-rmse:6.59442                                                                 \n",
      "[78]\tvalidation-rmse:6.59315                                                                 \n",
      "[79]\tvalidation-rmse:6.59308                                                                 \n",
      "[80]\tvalidation-rmse:6.59258                                                                 \n",
      "[81]\tvalidation-rmse:6.59237                                                                 \n",
      "[82]\tvalidation-rmse:6.59217                                                                 \n",
      "[83]\tvalidation-rmse:6.59145                                                                 \n",
      "[84]\tvalidation-rmse:6.59154                                                                 \n",
      "[85]\tvalidation-rmse:6.59184                                                                 \n",
      "[86]\tvalidation-rmse:6.59175                                                                 \n",
      "[87]\tvalidation-rmse:6.59167                                                                 \n",
      "[88]\tvalidation-rmse:6.59056                                                                 \n",
      "[89]\tvalidation-rmse:6.59087                                                                 \n",
      "[90]\tvalidation-rmse:6.59064                                                                 \n",
      "[91]\tvalidation-rmse:6.59111                                                                 \n",
      "[92]\tvalidation-rmse:6.59122                                                                 \n",
      "[93]\tvalidation-rmse:6.59090                                                                 \n",
      "[94]\tvalidation-rmse:6.59064                                                                 \n",
      "[95]\tvalidation-rmse:6.59052                                                                 \n",
      "[96]\tvalidation-rmse:6.59003                                                                 \n",
      "[97]\tvalidation-rmse:6.59009                                                                 \n",
      "[98]\tvalidation-rmse:6.59019                                                                 \n",
      "[99]\tvalidation-rmse:6.59001                                                                 \n",
      "[100]\tvalidation-rmse:6.58989                                                                \n",
      "[101]\tvalidation-rmse:6.58974                                                                \n",
      "[102]\tvalidation-rmse:6.59015                                                                \n",
      "[103]\tvalidation-rmse:6.58978                                                                \n",
      "[104]\tvalidation-rmse:6.58997                                                                \n",
      "[105]\tvalidation-rmse:6.58978                                                                \n",
      "[106]\tvalidation-rmse:6.58944                                                                \n",
      "[107]\tvalidation-rmse:6.58951                                                                \n",
      "[108]\tvalidation-rmse:6.58913                                                                \n",
      "[109]\tvalidation-rmse:6.58935                                                                \n",
      "[110]\tvalidation-rmse:6.58941                                                                \n",
      "[111]\tvalidation-rmse:6.58953                                                                \n",
      "[112]\tvalidation-rmse:6.58927                                                                \n",
      "[113]\tvalidation-rmse:6.58926                                                                \n",
      "[114]\tvalidation-rmse:6.58877                                                                \n",
      "[115]\tvalidation-rmse:6.58823                                                                \n",
      "[116]\tvalidation-rmse:6.58891                                                                \n",
      "[117]\tvalidation-rmse:6.58872                                                                \n",
      "[118]\tvalidation-rmse:6.58876                                                                \n",
      "[119]\tvalidation-rmse:6.58856                                                                \n",
      "[120]\tvalidation-rmse:6.58824                                                                \n",
      "[121]\tvalidation-rmse:6.58870                                                                \n",
      "[122]\tvalidation-rmse:6.58862                                                                \n",
      "[123]\tvalidation-rmse:6.58834                                                                \n",
      "[124]\tvalidation-rmse:6.58844                                                                \n",
      "[125]\tvalidation-rmse:6.58865                                                                \n",
      "[126]\tvalidation-rmse:6.58791                                                                \n",
      "[127]\tvalidation-rmse:6.58799                                                                \n",
      "[128]\tvalidation-rmse:6.58821                                                                \n",
      "[129]\tvalidation-rmse:6.58813                                                                \n",
      "[130]\tvalidation-rmse:6.58808                                                                \n",
      "[131]\tvalidation-rmse:6.58803                                                                \n",
      "[132]\tvalidation-rmse:6.58801                                                                \n",
      "[133]\tvalidation-rmse:6.58752                                                                \n",
      "[134]\tvalidation-rmse:6.58740                                                                \n",
      "[135]\tvalidation-rmse:6.58745                                                                \n",
      "[136]\tvalidation-rmse:6.58732                                                                \n",
      "[137]\tvalidation-rmse:6.58708                                                                \n",
      "[138]\tvalidation-rmse:6.58695                                                                \n",
      "[139]\tvalidation-rmse:6.58708                                                                \n",
      "[140]\tvalidation-rmse:6.58713                                                                \n",
      "[141]\tvalidation-rmse:6.58696                                                                \n",
      "[142]\tvalidation-rmse:6.58668                                                                \n",
      "[143]\tvalidation-rmse:6.58667                                                                \n",
      "[144]\tvalidation-rmse:6.58639                                                                \n",
      "[145]\tvalidation-rmse:6.58666                                                                \n",
      "[146]\tvalidation-rmse:6.58662                                                                \n",
      "[147]\tvalidation-rmse:6.58664                                                                \n",
      "[148]\tvalidation-rmse:6.58658                                                                \n",
      "[149]\tvalidation-rmse:6.58633                                                                \n",
      "[150]\tvalidation-rmse:6.58639                                                                \n",
      "[151]\tvalidation-rmse:6.58628                                                                \n",
      "[152]\tvalidation-rmse:6.58659                                                                \n",
      "[153]\tvalidation-rmse:6.58660                                                                \n",
      "[154]\tvalidation-rmse:6.58670                                                                \n",
      "[155]\tvalidation-rmse:6.58673                                                                \n",
      "[156]\tvalidation-rmse:6.58669                                                                \n",
      "[157]\tvalidation-rmse:6.58640                                                                \n",
      "[158]\tvalidation-rmse:6.58665                                                                \n",
      "[159]\tvalidation-rmse:6.58647                                                                \n",
      "[160]\tvalidation-rmse:6.58641                                                                \n",
      "[161]\tvalidation-rmse:6.58668                                                                \n",
      "[162]\tvalidation-rmse:6.58681                                                                \n",
      "[163]\tvalidation-rmse:6.58671                                                                \n",
      "[164]\tvalidation-rmse:6.58685                                                                \n",
      "[165]\tvalidation-rmse:6.58656                                                                \n",
      "[166]\tvalidation-rmse:6.58678                                                                \n",
      "[167]\tvalidation-rmse:6.58654                                                                \n",
      "[168]\tvalidation-rmse:6.58671                                                                \n",
      "[169]\tvalidation-rmse:6.58682                                                                \n",
      "[170]\tvalidation-rmse:6.58661                                                                \n",
      "[171]\tvalidation-rmse:6.58666                                                                \n",
      "[172]\tvalidation-rmse:6.58638                                                                \n",
      "[173]\tvalidation-rmse:6.58665                                                                \n",
      "[174]\tvalidation-rmse:6.58620                                                                \n",
      "[175]\tvalidation-rmse:6.58595                                                                \n",
      "[176]\tvalidation-rmse:6.58605                                                                \n",
      "[177]\tvalidation-rmse:6.58602                                                                \n",
      "[178]\tvalidation-rmse:6.58605                                                                \n",
      "[179]\tvalidation-rmse:6.58606                                                                \n",
      "[180]\tvalidation-rmse:6.58602                                                                \n",
      "[181]\tvalidation-rmse:6.58619                                                                \n",
      "[182]\tvalidation-rmse:6.58617                                                                \n",
      "[183]\tvalidation-rmse:6.58629                                                                \n",
      "[184]\tvalidation-rmse:6.58627                                                                \n",
      "[185]\tvalidation-rmse:6.58646                                                                \n",
      "[186]\tvalidation-rmse:6.58662                                                                \n",
      "[187]\tvalidation-rmse:6.58639                                                                \n",
      "[188]\tvalidation-rmse:6.58635                                                                \n",
      "[189]\tvalidation-rmse:6.58627                                                                \n",
      "[190]\tvalidation-rmse:6.58605                                                                \n",
      "[191]\tvalidation-rmse:6.58604                                                                \n",
      "[192]\tvalidation-rmse:6.58606                                                                \n",
      "[193]\tvalidation-rmse:6.58599                                                                \n",
      "[194]\tvalidation-rmse:6.58596                                                                \n",
      "[195]\tvalidation-rmse:6.58588                                                                \n",
      "[196]\tvalidation-rmse:6.58615                                                                \n",
      "[197]\tvalidation-rmse:6.58628                                                                \n",
      "[198]\tvalidation-rmse:6.58631                                                                \n",
      "[199]\tvalidation-rmse:6.58645                                                                \n",
      "[200]\tvalidation-rmse:6.58612                                                                \n",
      "[201]\tvalidation-rmse:6.58626                                                                \n",
      "[202]\tvalidation-rmse:6.58623                                                                \n",
      "[203]\tvalidation-rmse:6.58628                                                                \n",
      "[204]\tvalidation-rmse:6.58638                                                                \n",
      "[205]\tvalidation-rmse:6.58619                                                                \n",
      "[206]\tvalidation-rmse:6.58613                                                                \n",
      "[207]\tvalidation-rmse:6.58638                                                                \n",
      "[208]\tvalidation-rmse:6.58627                                                                \n",
      "[209]\tvalidation-rmse:6.58632                                                                \n",
      "[210]\tvalidation-rmse:6.58623                                                                \n",
      "[211]\tvalidation-rmse:6.58603                                                                \n",
      "[212]\tvalidation-rmse:6.58607                                                                \n",
      "[213]\tvalidation-rmse:6.58629                                                                \n",
      "[214]\tvalidation-rmse:6.58613                                                                \n",
      "[215]\tvalidation-rmse:6.58648                                                                \n",
      "[216]\tvalidation-rmse:6.58592                                                                \n",
      "[217]\tvalidation-rmse:6.58577                                                                \n",
      "[218]\tvalidation-rmse:6.58579                                                                \n",
      "[219]\tvalidation-rmse:6.58589                                                                \n",
      "[220]\tvalidation-rmse:6.58567                                                                \n",
      "[221]\tvalidation-rmse:6.58570                                                                \n",
      "[222]\tvalidation-rmse:6.58592                                                                \n",
      "[223]\tvalidation-rmse:6.58611                                                                \n",
      "[224]\tvalidation-rmse:6.58581                                                                \n",
      "[225]\tvalidation-rmse:6.58592                                                                \n",
      "[226]\tvalidation-rmse:6.58566                                                                \n",
      "[227]\tvalidation-rmse:6.58558                                                                \n",
      "[228]\tvalidation-rmse:6.58552                                                                \n",
      "[229]\tvalidation-rmse:6.58517                                                                \n",
      "[230]\tvalidation-rmse:6.58539                                                                \n",
      "[231]\tvalidation-rmse:6.58564                                                                \n",
      "                                                                                             \r"
     ]
    }
   ],
   "source": [
    "best_result = fmin(\n",
    "    fn=objective,\n",
    "    space=search_space,\n",
    "    algo=tpe.suggest,\n",
    "    max_evals=50,\n",
    "    trials=Trials()\n",
    ")"
   ]
  },
  {
   "cell_type": "code",
   "execution_count": null,
   "id": "1bab7853-0e29-4caf-8ae1-fdbd8b58212c",
   "metadata": {},
   "outputs": [],
   "source": [
    "mlflow.end_run()"
   ]
  },
  {
   "cell_type": "code",
   "execution_count": null,
   "id": "f0752084-a69c-4836-9fa6-a4fc283e97d8",
   "metadata": {},
   "outputs": [],
   "source": [
    "print('XGBoost Hyperparameter Tuning Complete')"
   ]
  }
 ],
 "metadata": {
  "kernelspec": {
   "display_name": "Python 3 (ipykernel)",
   "language": "python",
   "name": "python3"
  },
  "language_info": {
   "codemirror_mode": {
    "name": "ipython",
    "version": 3
   },
   "file_extension": ".py",
   "mimetype": "text/x-python",
   "name": "python",
   "nbconvert_exporter": "python",
   "pygments_lexer": "ipython3",
   "version": "3.12.7"
  }
 },
 "nbformat": 4,
 "nbformat_minor": 5
}
