{
 "cells": [
  {
   "cell_type": "code",
   "execution_count": 1,
   "id": "e4ccc156-c173-418e-b91a-3f8cdb6139ac",
   "metadata": {},
   "outputs": [],
   "source": [
    "import pandas as pd\n",
    "import pickle\n",
    "\n",
    "from sklearn.feature_extraction import DictVectorizer\n",
    "from sklearn.linear_model import LinearRegression\n",
    "from sklearn.metrics import root_mean_squared_error"
   ]
  },
  {
   "cell_type": "code",
   "execution_count": 2,
   "id": "42b156c0-99d5-491b-9f64-76dd20313588",
   "metadata": {},
   "outputs": [],
   "source": [
    "yellow_jan_2023 = pd.read_parquet('./data/yellow_tripdata_2023-01.parquet')"
   ]
  },
  {
   "cell_type": "code",
   "execution_count": 3,
   "id": "0a3835ec-3174-447c-8c2a-3cc1ea3807a5",
   "metadata": {},
   "outputs": [
    {
     "name": "stdout",
     "output_type": "stream",
     "text": [
      "Columns: 19\n",
      "Records: 3066766\n"
     ]
    }
   ],
   "source": [
    "num_records = yellow_jan_2023.shape[0]\n",
    "num_cols = yellow_jan_2023.shape[1]\n",
    "print('Columns:', num_cols)\n",
    "print('Records:', num_records)"
   ]
  },
  {
   "cell_type": "code",
   "execution_count": 5,
   "id": "c92c7dc1-55ec-4265-a7b6-921e0580b67f",
   "metadata": {},
   "outputs": [],
   "source": [
    "yellow_jan_2023['duration'] = yellow_jan_2023.tpep_dropoff_datetime - yellow_jan_2023.tpep_pickup_datetime\n",
    "yellow_jan_2023.duration = yellow_jan_2023.duration.apply(lambda td: td.total_seconds() / 60)"
   ]
  },
  {
   "cell_type": "code",
   "execution_count": 7,
   "id": "5a2c0799-fd40-4455-b39f-82c000754ef5",
   "metadata": {},
   "outputs": [
    {
     "data": {
      "text/plain": [
       "count    3.066766e+06\n",
       "mean     1.566900e+01\n",
       "std      4.259435e+01\n",
       "min     -2.920000e+01\n",
       "25%      7.116667e+00\n",
       "50%      1.151667e+01\n",
       "75%      1.830000e+01\n",
       "max      1.002918e+04\n",
       "Name: duration, dtype: float64"
      ]
     },
     "execution_count": 7,
     "metadata": {},
     "output_type": "execute_result"
    }
   ],
   "source": [
    "yellow_jan_2023.duration.describe()"
   ]
  },
  {
   "cell_type": "code",
   "execution_count": 8,
   "id": "0f5b300c-f22e-4f03-b16c-f10e3d1d209b",
   "metadata": {},
   "outputs": [],
   "source": [
    "yellow_jan_2023 = yellow_jan_2023[(yellow_jan_2023.duration >= 1) & (yellow_jan_2023.duration <= 60)]"
   ]
  },
  {
   "cell_type": "code",
   "execution_count": 10,
   "id": "b084fbca-554a-4773-b4ba-3d689f03fc7b",
   "metadata": {},
   "outputs": [
    {
     "name": "stdout",
     "output_type": "stream",
     "text": [
      "Percentage Records Remaining: 0.9812202822125979\n"
     ]
    }
   ],
   "source": [
    "new_num_records = yellow_jan_2023.shape[0]\n",
    "print('Percentage Records Remaining:', new_num_records / num_records)"
   ]
  },
  {
   "cell_type": "code",
   "execution_count": 11,
   "id": "5317a3a0-0b02-4bab-93dc-54d18519b9e2",
   "metadata": {},
   "outputs": [],
   "source": [
    "categorical = ['PULocationID', 'DOLocationID']"
   ]
  },
  {
   "cell_type": "code",
   "execution_count": 12,
   "id": "5014d7c9-8fd8-452b-83c8-69709832d256",
   "metadata": {},
   "outputs": [
    {
     "name": "stderr",
     "output_type": "stream",
     "text": [
      "/tmp/ipykernel_11362/3416028970.py:1: SettingWithCopyWarning: \n",
      "A value is trying to be set on a copy of a slice from a DataFrame.\n",
      "Try using .loc[row_indexer,col_indexer] = value instead\n",
      "\n",
      "See the caveats in the documentation: https://pandas.pydata.org/pandas-docs/stable/user_guide/indexing.html#returning-a-view-versus-a-copy\n",
      "  yellow_jan_2023[categorical] = yellow_jan_2023[categorical].astype(str)\n"
     ]
    }
   ],
   "source": [
    "yellow_jan_2023[categorical] = yellow_jan_2023[categorical].astype(str)"
   ]
  },
  {
   "cell_type": "code",
   "execution_count": 13,
   "id": "e32f96dd-dec1-4b64-b947-dddc024feb59",
   "metadata": {},
   "outputs": [
    {
     "data": {
      "text/plain": [
       "PULocationID    object\n",
       "DOLocationID    object\n",
       "dtype: object"
      ]
     },
     "execution_count": 13,
     "metadata": {},
     "output_type": "execute_result"
    }
   ],
   "source": [
    "yellow_jan_2023[categorical].dtypes"
   ]
  },
  {
   "cell_type": "code",
   "execution_count": 14,
   "id": "e022a4bb-5de6-4dd6-b095-2fd88ee0a3b4",
   "metadata": {},
   "outputs": [
    {
     "name": "stdout",
     "output_type": "stream",
     "text": [
      "Dimensionality: (3009173, 515)\n"
     ]
    }
   ],
   "source": [
    "list_dicts = yellow_jan_2023[categorical].to_dict(orient='records')\n",
    "\n",
    "dv = DictVectorizer()\n",
    "feature_matrix = dv.fit_transform(list_dicts)\n",
    "\n",
    "feature_matrix_arr = feature_matrix.toarray()\n",
    "\n",
    "dimensionality = feature_matrix_arr.shape\n",
    "print('Dimensionality:', dimensionality)"
   ]
  },
  {
   "cell_type": "code",
   "execution_count": 15,
   "id": "72b5ef66-2532-46c2-9911-851d94f2a847",
   "metadata": {},
   "outputs": [],
   "source": [
    "target = 'duration'\n",
    "y_train = yellow_jan_2023[target].values"
   ]
  },
  {
   "cell_type": "code",
   "execution_count": 16,
   "id": "416dcbd4-428a-42e5-9e1b-bca577ef9f6c",
   "metadata": {},
   "outputs": [
    {
     "data": {
      "text/plain": [
       "7.6492619633678824"
      ]
     },
     "execution_count": 16,
     "metadata": {},
     "output_type": "execute_result"
    }
   ],
   "source": [
    "lr = LinearRegression()\n",
    "lr.fit(feature_matrix, y_train)\n",
    "\n",
    "y_pred = lr.predict(feature_matrix)\n",
    "\n",
    "root_mean_squared_error(y_train, y_pred)"
   ]
  },
  {
   "cell_type": "code",
   "execution_count": 2,
   "id": "5c09a376-6e53-4bff-b6a4-72a6443ce4c1",
   "metadata": {},
   "outputs": [],
   "source": [
    "def read_dataframe(filename):\n",
    "    df = pd.read_parquet(filename)\n",
    "\n",
    "    df['duration'] = df.tpep_dropoff_datetime - df.tpep_pickup_datetime\n",
    "\n",
    "    df.duration = df.duration.apply(lambda td: td.total_seconds() / 60)\n",
    "\n",
    "    df = df[(df.duration >= 1) & (df.duration <= 60)]\n",
    "\n",
    "    categorical = ['PULocationID', 'DOLocationID']\n",
    "    df[categorical] = df[categorical].astype(str)\n",
    "\n",
    "    return df"
   ]
  },
  {
   "cell_type": "code",
   "execution_count": 3,
   "id": "77b142f7-9591-4563-b89a-d8f9036158c5",
   "metadata": {},
   "outputs": [],
   "source": [
    "df_train = read_dataframe('./data/yellow_tripdata_2023-01.parquet')\n",
    "df_val = read_dataframe('./data/yellow_tripdata_2023-02.parquet')"
   ]
  },
  {
   "cell_type": "code",
   "execution_count": null,
   "id": "d82e1f9c-1a4d-4b9c-b8b3-9a103abe1b27",
   "metadata": {},
   "outputs": [],
   "source": []
  },
  {
   "cell_type": "code",
   "execution_count": null,
   "id": "91c56c53-82c5-45ac-8665-237ae6206ac5",
   "metadata": {},
   "outputs": [],
   "source": []
  },
  {
   "cell_type": "code",
   "execution_count": 6,
   "id": "1203b1ae-7b5c-4fca-8902-8a882790035b",
   "metadata": {},
   "outputs": [
    {
     "data": {
      "text/plain": [
       "PULocationID    object\n",
       "DOLocationID    object\n",
       "dtype: object"
      ]
     },
     "execution_count": 6,
     "metadata": {},
     "output_type": "execute_result"
    }
   ],
   "source": [
    "categorical = ['PULocationID', 'DOLocationID']\n",
    "df_train[categorical].dtypes"
   ]
  },
  {
   "cell_type": "code",
   "execution_count": null,
   "id": "1b6a89d7-a370-42a3-80f1-36cecaaa0a31",
   "metadata": {},
   "outputs": [],
   "source": []
  },
  {
   "cell_type": "code",
   "execution_count": 7,
   "id": "b783f3c7-0217-41a4-be75-1905f1990885",
   "metadata": {},
   "outputs": [],
   "source": [
    "dv = DictVectorizer()\n",
    "\n",
    "train_dicts = df_train[categorical].to_dict(orient='records')\n",
    "X_train = dv.fit_transform(train_dicts)\n",
    "\n",
    "val_dicts = df_val[categorical].to_dict(orient='records')\n",
    "X_val = dv.transform(val_dicts)"
   ]
  },
  {
   "cell_type": "code",
   "execution_count": 8,
   "id": "93bd9833-6bab-44a3-af53-875740a7d9b1",
   "metadata": {},
   "outputs": [],
   "source": [
    "target = 'duration'\n",
    "y_train = df_train[target].values\n",
    "y_val = df_val[target].values"
   ]
  },
  {
   "cell_type": "code",
   "execution_count": 9,
   "id": "6757daa9-5fa1-49e1-8140-436c4a66cc7d",
   "metadata": {},
   "outputs": [
    {
     "data": {
      "text/plain": [
       "7.81181893596011"
      ]
     },
     "execution_count": 9,
     "metadata": {},
     "output_type": "execute_result"
    }
   ],
   "source": [
    "lr = LinearRegression()\n",
    "lr.fit(X_train, y_train)\n",
    "y_pred = lr.predict(X_val)\n",
    "\n",
    "root_mean_squared_error(y_val, y_pred)"
   ]
  },
  {
   "cell_type": "code",
   "execution_count": null,
   "id": "a5b93a40-a99f-4b66-b899-7fca4e3123f4",
   "metadata": {},
   "outputs": [],
   "source": []
  }
 ],
 "metadata": {
  "kernelspec": {
   "display_name": "Python 3 (ipykernel)",
   "language": "python",
   "name": "python3"
  },
  "language_info": {
   "codemirror_mode": {
    "name": "ipython",
    "version": 3
   },
   "file_extension": ".py",
   "mimetype": "text/x-python",
   "name": "python",
   "nbconvert_exporter": "python",
   "pygments_lexer": "ipython3",
   "version": "3.12.7"
  }
 },
 "nbformat": 4,
 "nbformat_minor": 5
}
